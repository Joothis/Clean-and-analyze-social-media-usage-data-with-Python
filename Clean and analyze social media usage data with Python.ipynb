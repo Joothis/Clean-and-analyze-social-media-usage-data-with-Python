{
 "cells": [
  {
   "cell_type": "code",
   "execution_count": null,
   "metadata": {
    "vscode": {
     "languageId": "plaintext"
    }
   },
   "outputs": [],
   "source": []
  },
  {
   "cell_type": "code",
   "execution_count": null,
   "metadata": {
    "vscode": {
     "languageId": "plaintext"
    }
   },
   "outputs": [],
   "source": [
    "import pandas as pd\n",
    "import numpy as np\n",
    "import matplotlib.pyplot as plt\n",
    "import seaborn as sns\n",
    "import random"
   ]
  },
  {
   "cell_type": "code",
   "execution_count": null,
   "metadata": {
    "vscode": {
     "languageId": "plaintext"
    }
   },
   "outputs": [],
   "source": [
    "\n",
    "# Define the categories\n",
    "categories = ['Food', 'Travel', 'Fashion', 'Fitness', 'Music', 'Culture', 'Family', 'Health']\n",
    "\n",
    "# Number of data points\n",
    "n = 500\n",
    "\n",
    "# Create the data dictionary\n",
    "data = {\n",
    "    'Date': pd.date_range('2021-01-01', periods=n),\n",
    "    'Category': [random.choice(categories) for _ in range(n)],\n",
    "    'Likes': np.random.randint(0, 10000, size=n)\n",
    "}\n",
    "\n",
    "# Create a pandas DataFrame from the data\n",
    "df = pd.DataFrame(data)\n"
   ]
  },
  {
   "cell_type": "code",
   "execution_count": null,
   "metadata": {
    "vscode": {
     "languageId": "plaintext"
    }
   },
   "outputs": [],
   "source": [
    "# Display the first few rows of the DataFrame\n",
    "print(df.head())\n",
    "\n",
    "# Get some basic statistics about the data\n",
    "print(df.describe())\n",
    "\n",
    "# Check the data types of each column\n",
    "print(df.info())\n",
    "\n",
    "# Explore the distribution of likes\n",
    "plt.figure(figsize=(10, 6))\n",
    "sns.histplot(df['Likes'], kde=True)\n",
    "plt.title('Distribution of Likes')\n",
    "plt.xlabel('Likes')\n",
    "plt.ylabel('Frequency')\n",
    "plt.show()\n",
    "\n",
    "# Analyze likes per category\n",
    "plt.figure(figsize=(12, 6))\n",
    "sns.boxplot(x='Category', y='Likes', data=df)\n",
    "plt.title('Likes per Category')\n",
    "plt.xticks(rotation=45)\n",
    "plt.show()\n",
    "\n",
    "# Look for trends over time\n",
    "plt.figure(figsize=(12, 6))\n",
    "plt.plot(df['Date'], df['Likes'])\n",
    "plt.title('Likes Over Time')\n",
    "plt.xlabel('Date')\n",
    "plt.ylabel('Likes')\n",
    "plt.show()\n"
   ]
  },
  {
   "cell_type": "code",
   "execution_count": null,
   "metadata": {
    "vscode": {
     "languageId": "plaintext"
    }
   },
   "outputs": [],
   "source": [
    "# Check for missing values\n",
    "print(df.isnull().sum())\n",
    "\n",
    "# Drop rows with missing values\n",
    "print(f\"Number of duplicate rows: {df.duplicated().sum()}\")\n",
    "\n",
    "# Drop duplicate rows\n",
    "df.drop_duplicates(inplace=True)\n",
    "\n",
    "# Check data types and convert if needed\n",
    "print(df.dtypes)\n",
    "\n",
    "\n",
    "# Outlier detection and handling (example using IQR)\n",
    "Q1 = df['Likes'].quantile(0.25)\n",
    "Q3 = df['Likes'].quantile(0.75)\n",
    "IQR = Q3 - Q1\n",
    "lower_bound = Q1 - 1.5 * IQR\n",
    "upper_bound = Q3 + 1.5 * IQR\n",
    "\n",
    "df = df[(df['Likes'] >= lower_bound) & (df['Likes'] <= upper_bound)]\n",
    "\n",
    "# Display the cleaned DataFrame\n",
    "print(df.head())"
   ]
  }
 ],
 "metadata": {
  "language_info": {
   "name": "python"
  }
 },
 "nbformat": 4,
 "nbformat_minor": 2
}
